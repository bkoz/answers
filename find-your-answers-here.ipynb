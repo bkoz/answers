{
 "cells": [
  {
   "cell_type": "code",
   "execution_count": 18,
   "id": "according-synthetic",
   "metadata": {
    "papermill": {
     "duration": 1.820434,
     "end_time": "2021-06-26T07:39:17.882886",
     "exception": false,
     "start_time": "2021-06-26T07:39:16.062452",
     "status": "completed"
    },
    "tags": []
   },
   "outputs": [],
   "source": [
    "import pandas as pd\n",
    "import numpy as np\n",
    "import string\n",
    "from nltk.tokenize import word_tokenize\n",
    "from nltk.stem import WordNetLemmatizer\n",
    "from nltk.corpus import stopwords\n",
    "from nltk.corpus import wordnet\n",
    "from nltk import pos_tag\n",
    "from sklearn.feature_extraction.text import TfidfVectorizer\n",
    "from sklearn.metrics.pairwise import cosine_similarity"
   ]
  },
  {
   "cell_type": "code",
   "execution_count": 19,
   "id": "superb-regard",
   "metadata": {
    "papermill": {
     "duration": 0.091796,
     "end_time": "2021-06-26T07:39:17.996728",
     "exception": false,
     "start_time": "2021-06-26T07:39:17.904932",
     "status": "completed"
    },
    "tags": []
   },
   "outputs": [],
   "source": [
    "df1 = pd.read_csv('./data/S08_question_answer_pairs.txt', sep='\\t')\n",
    "df2 = pd.read_csv('./data/S09_question_answer_pairs.txt', sep='\\t')\n",
    "df3 = pd.read_csv('./data/S10_question_answer_pairs.txt', sep='\\t', encoding = 'ISO-8859-1')"
   ]
  },
  {
   "cell_type": "code",
   "execution_count": 20,
   "id": "artistic-championship",
   "metadata": {
    "papermill": {
     "duration": 0.052706,
     "end_time": "2021-06-26T07:39:18.064227",
     "exception": false,
     "start_time": "2021-06-26T07:39:18.011521",
     "status": "completed"
    },
    "tags": []
   },
   "outputs": [
    {
     "data": {
      "text/html": [
       "<div>\n",
       "<style scoped>\n",
       "    .dataframe tbody tr th:only-of-type {\n",
       "        vertical-align: middle;\n",
       "    }\n",
       "\n",
       "    .dataframe tbody tr th {\n",
       "        vertical-align: top;\n",
       "    }\n",
       "\n",
       "    .dataframe thead th {\n",
       "        text-align: right;\n",
       "    }\n",
       "</style>\n",
       "<table border=\"1\" class=\"dataframe\">\n",
       "  <thead>\n",
       "    <tr style=\"text-align: right;\">\n",
       "      <th></th>\n",
       "      <th>ArticleTitle</th>\n",
       "      <th>Question</th>\n",
       "      <th>Answer</th>\n",
       "      <th>DifficultyFromQuestioner</th>\n",
       "      <th>DifficultyFromAnswerer</th>\n",
       "      <th>ArticleFile</th>\n",
       "    </tr>\n",
       "  </thead>\n",
       "  <tbody>\n",
       "    <tr>\n",
       "      <th>0</th>\n",
       "      <td>Abraham_Lincoln</td>\n",
       "      <td>Was Abraham Lincoln the sixteenth President of...</td>\n",
       "      <td>yes</td>\n",
       "      <td>easy</td>\n",
       "      <td>easy</td>\n",
       "      <td>S08_set3_a4</td>\n",
       "    </tr>\n",
       "    <tr>\n",
       "      <th>1</th>\n",
       "      <td>Abraham_Lincoln</td>\n",
       "      <td>Was Abraham Lincoln the sixteenth President of...</td>\n",
       "      <td>Yes.</td>\n",
       "      <td>easy</td>\n",
       "      <td>easy</td>\n",
       "      <td>S08_set3_a4</td>\n",
       "    </tr>\n",
       "    <tr>\n",
       "      <th>2</th>\n",
       "      <td>Abraham_Lincoln</td>\n",
       "      <td>Did Lincoln sign the National Banking Act of 1...</td>\n",
       "      <td>yes</td>\n",
       "      <td>easy</td>\n",
       "      <td>medium</td>\n",
       "      <td>S08_set3_a4</td>\n",
       "    </tr>\n",
       "    <tr>\n",
       "      <th>3</th>\n",
       "      <td>Abraham_Lincoln</td>\n",
       "      <td>Did Lincoln sign the National Banking Act of 1...</td>\n",
       "      <td>Yes.</td>\n",
       "      <td>easy</td>\n",
       "      <td>easy</td>\n",
       "      <td>S08_set3_a4</td>\n",
       "    </tr>\n",
       "    <tr>\n",
       "      <th>4</th>\n",
       "      <td>Abraham_Lincoln</td>\n",
       "      <td>Did his mother die of pneumonia?</td>\n",
       "      <td>no</td>\n",
       "      <td>easy</td>\n",
       "      <td>medium</td>\n",
       "      <td>S08_set3_a4</td>\n",
       "    </tr>\n",
       "    <tr>\n",
       "      <th>5</th>\n",
       "      <td>Abraham_Lincoln</td>\n",
       "      <td>Did his mother die of pneumonia?</td>\n",
       "      <td>No.</td>\n",
       "      <td>easy</td>\n",
       "      <td>easy</td>\n",
       "      <td>S08_set3_a4</td>\n",
       "    </tr>\n",
       "    <tr>\n",
       "      <th>6</th>\n",
       "      <td>Abraham_Lincoln</td>\n",
       "      <td>How many long was Lincoln's formal education?</td>\n",
       "      <td>18 months</td>\n",
       "      <td>medium</td>\n",
       "      <td>easy</td>\n",
       "      <td>S08_set3_a4</td>\n",
       "    </tr>\n",
       "    <tr>\n",
       "      <th>7</th>\n",
       "      <td>Abraham_Lincoln</td>\n",
       "      <td>How many long was Lincoln's formal education?</td>\n",
       "      <td>18 months.</td>\n",
       "      <td>medium</td>\n",
       "      <td>medium</td>\n",
       "      <td>S08_set3_a4</td>\n",
       "    </tr>\n",
       "    <tr>\n",
       "      <th>8</th>\n",
       "      <td>Abraham_Lincoln</td>\n",
       "      <td>When did Lincoln begin his political career?</td>\n",
       "      <td>1832</td>\n",
       "      <td>medium</td>\n",
       "      <td>easy</td>\n",
       "      <td>S08_set3_a4</td>\n",
       "    </tr>\n",
       "    <tr>\n",
       "      <th>9</th>\n",
       "      <td>Abraham_Lincoln</td>\n",
       "      <td>When did Lincoln begin his political career?</td>\n",
       "      <td>1832.</td>\n",
       "      <td>medium</td>\n",
       "      <td>medium</td>\n",
       "      <td>S08_set3_a4</td>\n",
       "    </tr>\n",
       "    <tr>\n",
       "      <th>10</th>\n",
       "      <td>Abraham_Lincoln</td>\n",
       "      <td>What did The Legal Tender Act of 1862 establish?</td>\n",
       "      <td>the United States Note, the first paper curren...</td>\n",
       "      <td>medium</td>\n",
       "      <td>easy</td>\n",
       "      <td>S08_set3_a4</td>\n",
       "    </tr>\n",
       "    <tr>\n",
       "      <th>11</th>\n",
       "      <td>Abraham_Lincoln</td>\n",
       "      <td>What did The Legal Tender Act of 1862 establish?</td>\n",
       "      <td>The United States Note, the first paper curren...</td>\n",
       "      <td>medium</td>\n",
       "      <td>medium</td>\n",
       "      <td>S08_set3_a4</td>\n",
       "    </tr>\n",
       "    <tr>\n",
       "      <th>12</th>\n",
       "      <td>Abraham_Lincoln</td>\n",
       "      <td>Who suggested Lincoln grow a beard?</td>\n",
       "      <td>11-year-old Grace Bedell</td>\n",
       "      <td>hard</td>\n",
       "      <td>medium</td>\n",
       "      <td>S08_set3_a4</td>\n",
       "    </tr>\n",
       "    <tr>\n",
       "      <th>13</th>\n",
       "      <td>Abraham_Lincoln</td>\n",
       "      <td>Who suggested Lincoln grow a beard?</td>\n",
       "      <td>Grace Bedell.</td>\n",
       "      <td>hard</td>\n",
       "      <td>medium</td>\n",
       "      <td>S08_set3_a4</td>\n",
       "    </tr>\n",
       "    <tr>\n",
       "      <th>14</th>\n",
       "      <td>Abraham_Lincoln</td>\n",
       "      <td>When did the Gettysburg address argue that Ame...</td>\n",
       "      <td>1776</td>\n",
       "      <td>hard</td>\n",
       "      <td>hard</td>\n",
       "      <td>S08_set3_a4</td>\n",
       "    </tr>\n",
       "    <tr>\n",
       "      <th>15</th>\n",
       "      <td>Abraham_Lincoln</td>\n",
       "      <td>When did the Gettysburg address argue that Ame...</td>\n",
       "      <td>1776.</td>\n",
       "      <td>hard</td>\n",
       "      <td>hard</td>\n",
       "      <td>S08_set3_a4</td>\n",
       "    </tr>\n",
       "    <tr>\n",
       "      <th>16</th>\n",
       "      <td>Abraham_Lincoln</td>\n",
       "      <td>Did Lincoln beat John C. Breckinridge in the 1...</td>\n",
       "      <td>yes</td>\n",
       "      <td>hard</td>\n",
       "      <td>medium</td>\n",
       "      <td>S08_set3_a4</td>\n",
       "    </tr>\n",
       "    <tr>\n",
       "      <th>17</th>\n",
       "      <td>Abraham_Lincoln</td>\n",
       "      <td>Did Lincoln beat John C. Breckinridge in the 1...</td>\n",
       "      <td>Yes.</td>\n",
       "      <td>hard</td>\n",
       "      <td>hard</td>\n",
       "      <td>S08_set3_a4</td>\n",
       "    </tr>\n",
       "    <tr>\n",
       "      <th>18</th>\n",
       "      <td>Abraham_Lincoln</td>\n",
       "      <td>Was Abraham Lincoln the first President of the...</td>\n",
       "      <td>No</td>\n",
       "      <td>easy</td>\n",
       "      <td>easy</td>\n",
       "      <td>S08_set3_a4</td>\n",
       "    </tr>\n",
       "    <tr>\n",
       "      <th>19</th>\n",
       "      <td>Abraham_Lincoln</td>\n",
       "      <td>Was Abraham Lincoln the first President of the...</td>\n",
       "      <td>No</td>\n",
       "      <td>easy</td>\n",
       "      <td>medium</td>\n",
       "      <td>S08_set3_a4</td>\n",
       "    </tr>\n",
       "  </tbody>\n",
       "</table>\n",
       "</div>"
      ],
      "text/plain": [
       "       ArticleTitle                                           Question  \\\n",
       "0   Abraham_Lincoln  Was Abraham Lincoln the sixteenth President of...   \n",
       "1   Abraham_Lincoln  Was Abraham Lincoln the sixteenth President of...   \n",
       "2   Abraham_Lincoln  Did Lincoln sign the National Banking Act of 1...   \n",
       "3   Abraham_Lincoln  Did Lincoln sign the National Banking Act of 1...   \n",
       "4   Abraham_Lincoln                   Did his mother die of pneumonia?   \n",
       "5   Abraham_Lincoln                   Did his mother die of pneumonia?   \n",
       "6   Abraham_Lincoln      How many long was Lincoln's formal education?   \n",
       "7   Abraham_Lincoln      How many long was Lincoln's formal education?   \n",
       "8   Abraham_Lincoln       When did Lincoln begin his political career?   \n",
       "9   Abraham_Lincoln       When did Lincoln begin his political career?   \n",
       "10  Abraham_Lincoln   What did The Legal Tender Act of 1862 establish?   \n",
       "11  Abraham_Lincoln   What did The Legal Tender Act of 1862 establish?   \n",
       "12  Abraham_Lincoln                Who suggested Lincoln grow a beard?   \n",
       "13  Abraham_Lincoln                Who suggested Lincoln grow a beard?   \n",
       "14  Abraham_Lincoln  When did the Gettysburg address argue that Ame...   \n",
       "15  Abraham_Lincoln  When did the Gettysburg address argue that Ame...   \n",
       "16  Abraham_Lincoln  Did Lincoln beat John C. Breckinridge in the 1...   \n",
       "17  Abraham_Lincoln  Did Lincoln beat John C. Breckinridge in the 1...   \n",
       "18  Abraham_Lincoln  Was Abraham Lincoln the first President of the...   \n",
       "19  Abraham_Lincoln  Was Abraham Lincoln the first President of the...   \n",
       "\n",
       "                                               Answer  \\\n",
       "0                                                 yes   \n",
       "1                                                Yes.   \n",
       "2                                                 yes   \n",
       "3                                                Yes.   \n",
       "4                                                  no   \n",
       "5                                                 No.   \n",
       "6                                           18 months   \n",
       "7                                          18 months.   \n",
       "8                                                1832   \n",
       "9                                               1832.   \n",
       "10  the United States Note, the first paper curren...   \n",
       "11  The United States Note, the first paper curren...   \n",
       "12                           11-year-old Grace Bedell   \n",
       "13                                      Grace Bedell.   \n",
       "14                                               1776   \n",
       "15                                              1776.   \n",
       "16                                                yes   \n",
       "17                                               Yes.   \n",
       "18                                                 No   \n",
       "19                                                 No   \n",
       "\n",
       "   DifficultyFromQuestioner DifficultyFromAnswerer  ArticleFile  \n",
       "0                      easy                   easy  S08_set3_a4  \n",
       "1                      easy                   easy  S08_set3_a4  \n",
       "2                      easy                 medium  S08_set3_a4  \n",
       "3                      easy                   easy  S08_set3_a4  \n",
       "4                      easy                 medium  S08_set3_a4  \n",
       "5                      easy                   easy  S08_set3_a4  \n",
       "6                    medium                   easy  S08_set3_a4  \n",
       "7                    medium                 medium  S08_set3_a4  \n",
       "8                    medium                   easy  S08_set3_a4  \n",
       "9                    medium                 medium  S08_set3_a4  \n",
       "10                   medium                   easy  S08_set3_a4  \n",
       "11                   medium                 medium  S08_set3_a4  \n",
       "12                     hard                 medium  S08_set3_a4  \n",
       "13                     hard                 medium  S08_set3_a4  \n",
       "14                     hard                   hard  S08_set3_a4  \n",
       "15                     hard                   hard  S08_set3_a4  \n",
       "16                     hard                 medium  S08_set3_a4  \n",
       "17                     hard                   hard  S08_set3_a4  \n",
       "18                     easy                   easy  S08_set3_a4  \n",
       "19                     easy                 medium  S08_set3_a4  "
      ]
     },
     "execution_count": 20,
     "metadata": {},
     "output_type": "execute_result"
    }
   ],
   "source": [
    "df1.head(20)"
   ]
  },
  {
   "cell_type": "code",
   "execution_count": 21,
   "id": "particular-bonus",
   "metadata": {
    "papermill": {
     "duration": 0.0472,
     "end_time": "2021-06-26T07:39:18.126939",
     "exception": false,
     "start_time": "2021-06-26T07:39:18.079739",
     "status": "completed"
    },
    "tags": []
   },
   "outputs": [
    {
     "name": "stdout",
     "output_type": "stream",
     "text": [
      "<class 'pandas.core.frame.DataFrame'>\n",
      "Int64Index: 1735 entries, 0 to 10\n",
      "Data columns (total 7 columns):\n",
      " #   Column                                                   Non-Null Count  Dtype \n",
      "---  ------                                                   --------------  ----- \n",
      " 0   ArticleTitle                                             1715 non-null   object\n",
      " 1   Question                                                 1696 non-null   object\n",
      " 2   Answer                                                   1475 non-null   object\n",
      " 3   DifficultyFromQuestioner                                 1224 non-null   object\n",
      " 4   DifficultyFromAnswerer                                   1473 non-null   object\n",
      " 5   ArticleFile                                              1713 non-null   object\n",
      " 6   The destination name is too long (785), reducing to 236  20 non-null     object\n",
      "dtypes: object(7)\n",
      "memory usage: 108.4+ KB\n"
     ]
    }
   ],
   "source": [
    "all_data = df1.append([df2, df3])\n",
    "all_data.info()"
   ]
  },
  {
   "cell_type": "code",
   "execution_count": 22,
   "id": "functioning-dispatch",
   "metadata": {
    "papermill": {
     "duration": 0.05283,
     "end_time": "2021-06-26T07:39:18.202213",
     "exception": false,
     "start_time": "2021-06-26T07:39:18.149383",
     "status": "completed"
    },
    "tags": []
   },
   "outputs": [
    {
     "data": {
      "text/plain": [
       "(1735, 2)"
      ]
     },
     "execution_count": 22,
     "metadata": {},
     "output_type": "execute_result"
    }
   ],
   "source": [
    "all_data['Question'] = all_data['ArticleTitle'].str.replace('_', ' ') + ' ' + all_data['Question']\n",
    "all_data = all_data[['Question', 'Answer']]\n",
    "all_data.shape"
   ]
  },
  {
   "cell_type": "code",
   "execution_count": 23,
   "id": "retired-equipment",
   "metadata": {
    "papermill": {
     "duration": 0.02747,
     "end_time": "2021-06-26T07:39:18.245694",
     "exception": false,
     "start_time": "2021-06-26T07:39:18.218224",
     "status": "completed"
    },
    "tags": []
   },
   "outputs": [
    {
     "data": {
      "text/plain": [
       "0    Abraham Lincoln Was Abraham Lincoln the sixtee...\n",
       "1    Abraham Lincoln Was Abraham Lincoln the sixtee...\n",
       "2    Abraham Lincoln Did Lincoln sign the National ...\n",
       "3    Abraham Lincoln Did Lincoln sign the National ...\n",
       "4     Abraham Lincoln Did his mother die of pneumonia?\n",
       "5     Abraham Lincoln Did his mother die of pneumonia?\n",
       "6    Abraham Lincoln How many long was Lincoln's fo...\n",
       "7    Abraham Lincoln How many long was Lincoln's fo...\n",
       "8    Abraham Lincoln When did Lincoln begin his pol...\n",
       "9    Abraham Lincoln When did Lincoln begin his pol...\n",
       "Name: Question, dtype: object"
      ]
     },
     "execution_count": 23,
     "metadata": {},
     "output_type": "execute_result"
    }
   ],
   "source": [
    "all_data.head(10)[\"Question\"]"
   ]
  },
  {
   "cell_type": "code",
   "execution_count": 24,
   "id": "whole-relations",
   "metadata": {
    "papermill": {
     "duration": 0.035481,
     "end_time": "2021-06-26T07:39:18.298846",
     "exception": false,
     "start_time": "2021-06-26T07:39:18.263365",
     "status": "completed"
    },
    "tags": []
   },
   "outputs": [
    {
     "data": {
      "text/html": [
       "<div>\n",
       "<style scoped>\n",
       "    .dataframe tbody tr th:only-of-type {\n",
       "        vertical-align: middle;\n",
       "    }\n",
       "\n",
       "    .dataframe tbody tr th {\n",
       "        vertical-align: top;\n",
       "    }\n",
       "\n",
       "    .dataframe thead th {\n",
       "        text-align: right;\n",
       "    }\n",
       "</style>\n",
       "<table border=\"1\" class=\"dataframe\">\n",
       "  <thead>\n",
       "    <tr style=\"text-align: right;\">\n",
       "      <th></th>\n",
       "      <th>Question</th>\n",
       "      <th>Answer</th>\n",
       "    </tr>\n",
       "  </thead>\n",
       "  <tbody>\n",
       "    <tr>\n",
       "      <th>0</th>\n",
       "      <td>Abraham Lincoln Was Abraham Lincoln the sixtee...</td>\n",
       "      <td>yes</td>\n",
       "    </tr>\n",
       "    <tr>\n",
       "      <th>2</th>\n",
       "      <td>Abraham Lincoln Did Lincoln sign the National ...</td>\n",
       "      <td>yes</td>\n",
       "    </tr>\n",
       "    <tr>\n",
       "      <th>4</th>\n",
       "      <td>Abraham Lincoln Did his mother die of pneumonia?</td>\n",
       "      <td>no</td>\n",
       "    </tr>\n",
       "    <tr>\n",
       "      <th>6</th>\n",
       "      <td>Abraham Lincoln How many long was Lincoln's fo...</td>\n",
       "      <td>18 months</td>\n",
       "    </tr>\n",
       "    <tr>\n",
       "      <th>8</th>\n",
       "      <td>Abraham Lincoln When did Lincoln begin his pol...</td>\n",
       "      <td>1832</td>\n",
       "    </tr>\n",
       "    <tr>\n",
       "      <th>10</th>\n",
       "      <td>Abraham Lincoln What did The Legal Tender Act ...</td>\n",
       "      <td>the United States Note, the first paper curren...</td>\n",
       "    </tr>\n",
       "    <tr>\n",
       "      <th>12</th>\n",
       "      <td>Abraham Lincoln Who suggested Lincoln grow a b...</td>\n",
       "      <td>11-year-old Grace Bedell</td>\n",
       "    </tr>\n",
       "    <tr>\n",
       "      <th>14</th>\n",
       "      <td>Abraham Lincoln When did the Gettysburg addres...</td>\n",
       "      <td>1776</td>\n",
       "    </tr>\n",
       "    <tr>\n",
       "      <th>16</th>\n",
       "      <td>Abraham Lincoln Did Lincoln beat John C. Breck...</td>\n",
       "      <td>yes</td>\n",
       "    </tr>\n",
       "    <tr>\n",
       "      <th>18</th>\n",
       "      <td>Abraham Lincoln Was Abraham Lincoln the first ...</td>\n",
       "      <td>No</td>\n",
       "    </tr>\n",
       "  </tbody>\n",
       "</table>\n",
       "</div>"
      ],
      "text/plain": [
       "                                             Question  \\\n",
       "0   Abraham Lincoln Was Abraham Lincoln the sixtee...   \n",
       "2   Abraham Lincoln Did Lincoln sign the National ...   \n",
       "4    Abraham Lincoln Did his mother die of pneumonia?   \n",
       "6   Abraham Lincoln How many long was Lincoln's fo...   \n",
       "8   Abraham Lincoln When did Lincoln begin his pol...   \n",
       "10  Abraham Lincoln What did The Legal Tender Act ...   \n",
       "12  Abraham Lincoln Who suggested Lincoln grow a b...   \n",
       "14  Abraham Lincoln When did the Gettysburg addres...   \n",
       "16  Abraham Lincoln Did Lincoln beat John C. Breck...   \n",
       "18  Abraham Lincoln Was Abraham Lincoln the first ...   \n",
       "\n",
       "                                               Answer  \n",
       "0                                                 yes  \n",
       "2                                                 yes  \n",
       "4                                                  no  \n",
       "6                                           18 months  \n",
       "8                                                1832  \n",
       "10  the United States Note, the first paper curren...  \n",
       "12                           11-year-old Grace Bedell  \n",
       "14                                               1776  \n",
       "16                                                yes  \n",
       "18                                                 No  "
      ]
     },
     "execution_count": 24,
     "metadata": {},
     "output_type": "execute_result"
    }
   ],
   "source": [
    "all_data = all_data.drop_duplicates(subset='Question')\n",
    "all_data.head(10)"
   ]
  },
  {
   "cell_type": "code",
   "execution_count": 25,
   "id": "promising-reviewer",
   "metadata": {
    "papermill": {
     "duration": 0.024478,
     "end_time": "2021-06-26T07:39:18.340161",
     "exception": false,
     "start_time": "2021-06-26T07:39:18.315683",
     "status": "completed"
    },
    "tags": []
   },
   "outputs": [
    {
     "data": {
      "text/plain": [
       "(1034, 2)"
      ]
     },
     "execution_count": 25,
     "metadata": {},
     "output_type": "execute_result"
    }
   ],
   "source": [
    "all_data.shape"
   ]
  },
  {
   "cell_type": "code",
   "execution_count": 26,
   "id": "figured-there",
   "metadata": {
    "papermill": {
     "duration": 0.029363,
     "end_time": "2021-06-26T07:39:18.386689",
     "exception": false,
     "start_time": "2021-06-26T07:39:18.357326",
     "status": "completed"
    },
    "tags": []
   },
   "outputs": [
    {
     "data": {
      "text/plain": [
       "(901, 2)"
      ]
     },
     "execution_count": 26,
     "metadata": {},
     "output_type": "execute_result"
    }
   ],
   "source": [
    "all_data = all_data.dropna()\n",
    "all_data.shape"
   ]
  },
  {
   "cell_type": "code",
   "execution_count": 27,
   "id": "removed-recipe",
   "metadata": {
    "papermill": {
     "duration": 0.035496,
     "end_time": "2021-06-26T07:39:18.439768",
     "exception": false,
     "start_time": "2021-06-26T07:39:18.404272",
     "status": "completed"
    },
    "tags": []
   },
   "outputs": [],
   "source": [
    "stopwords_list = stopwords.words('english')\n",
    "\n",
    "lemmatizer = WordNetLemmatizer()\n",
    "\n",
    "def my_tokenizer(doc):\n",
    "    words = word_tokenize(doc)\n",
    "    \n",
    "    pos_tags = pos_tag(words)\n",
    "    \n",
    "    non_stopwords = [w for w in pos_tags if not w[0].lower() in stopwords_list]\n",
    "    \n",
    "    non_punctuation = [w for w in non_stopwords if not w[0] in string.punctuation]\n",
    "    \n",
    "    lemmas = []\n",
    "    for w in non_punctuation:\n",
    "        if w[1].startswith('J'):\n",
    "            pos = wordnet.ADJ\n",
    "        elif w[1].startswith('V'):\n",
    "            pos = wordnet.VERB\n",
    "        elif w[1].startswith('N'):\n",
    "            pos = wordnet.NOUN\n",
    "        elif w[1].startswith('R'):\n",
    "            pos = wordnet.ADV\n",
    "        else:\n",
    "            pos = wordnet.NOUN\n",
    "        \n",
    "        lemmas.append(lemmatizer.lemmatize(w[0], pos))\n",
    "\n",
    "    return lemmas"
   ]
  },
  {
   "cell_type": "code",
   "execution_count": 28,
   "id": "regular-solomon",
   "metadata": {
    "papermill": {
     "duration": 4.640327,
     "end_time": "2021-06-26T07:39:23.097978",
     "exception": false,
     "start_time": "2021-06-26T07:39:18.457651",
     "status": "completed"
    },
    "tags": []
   },
   "outputs": [
    {
     "name": "stdout",
     "output_type": "stream",
     "text": [
      "(901, 1944)\n"
     ]
    }
   ],
   "source": [
    "tfidf_vectorizer = TfidfVectorizer(tokenizer=my_tokenizer)\n",
    "tfidf_matrix = tfidf_vectorizer.fit_transform(tuple(all_data['Question']))\n",
    "print(tfidf_matrix.shape)"
   ]
  },
  {
   "cell_type": "code",
   "execution_count": 29,
   "id": "radio-nebraska",
   "metadata": {
    "papermill": {
     "duration": 0.027237,
     "end_time": "2021-06-26T07:39:23.143081",
     "exception": false,
     "start_time": "2021-06-26T07:39:23.115844",
     "status": "completed"
    },
    "tags": []
   },
   "outputs": [],
   "source": [
    "def ask_question(question):\n",
    "    query_vect = tfidf_vectorizer.transform([question])\n",
    "    similarity = cosine_similarity(query_vect, tfidf_matrix)\n",
    "    max_similarity = np.argmax(similarity, axis=None)\n",
    "    \n",
    "    print('Your question:', question)\n",
    "    print('Closest question found:', all_data.iloc[max_similarity]['Question'])\n",
    "    print('Similarity: {:.2%}'.format(similarity[0, max_similarity]))\n",
    "    print('Answer:', all_data.iloc[max_similarity]['Answer'])"
   ]
  },
  {
   "cell_type": "code",
   "execution_count": 30,
   "id": "dominican-enforcement",
   "metadata": {
    "papermill": {
     "duration": 0.031562,
     "end_time": "2021-06-26T07:39:23.192410",
     "exception": false,
     "start_time": "2021-06-26T07:39:23.160848",
     "status": "completed"
    },
    "tags": []
   },
   "outputs": [
    {
     "name": "stdout",
     "output_type": "stream",
     "text": [
      "Your question: When Abraham Lincoln started his political career\n",
      "Closest question found: Abraham Lincoln Did Lincoln start his political career in 1832?\n",
      "Similarity: 87.47%\n",
      "Answer: Yes\n"
     ]
    }
   ],
   "source": [
    "ask_question('When Abraham Lincoln started his political career')"
   ]
  },
  {
   "cell_type": "code",
   "execution_count": 31,
   "id": "sorted-asian",
   "metadata": {
    "papermill": {
     "duration": 0.031206,
     "end_time": "2021-06-26T07:39:23.241847",
     "exception": false,
     "start_time": "2021-06-26T07:39:23.210641",
     "status": "completed"
    },
    "tags": []
   },
   "outputs": [
    {
     "name": "stdout",
     "output_type": "stream",
     "text": [
      "Your question: Where was Nicola Tesla born\n",
      "Closest question found: Nikola Tesla Are there at least two films describing Tesla 's life ?\n",
      "Similarity: 41.74%\n",
      "Answer: Yes.\n"
     ]
    }
   ],
   "source": [
    "ask_question('Where was Nicola Tesla born')"
   ]
  },
  {
   "cell_type": "code",
   "execution_count": 32,
   "id": "legendary-recycling",
   "metadata": {
    "papermill": {
     "duration": 0.031587,
     "end_time": "2021-06-26T07:39:23.292393",
     "exception": false,
     "start_time": "2021-06-26T07:39:23.260806",
     "status": "completed"
    },
    "tags": []
   },
   "outputs": [
    {
     "name": "stdout",
     "output_type": "stream",
     "text": [
      "Your question: Can whales fly\n",
      "Closest question found: turtle Are turtles a part of the Flying Spaghetti Monster?\n",
      "Similarity: 41.42%\n",
      "Answer: *shrug*\n"
     ]
    }
   ],
   "source": [
    "ask_question('Can whales fly')"
   ]
  },
  {
   "cell_type": "code",
   "execution_count": 33,
   "id": "structured-porter",
   "metadata": {
    "papermill": {
     "duration": 0.031759,
     "end_time": "2021-06-26T07:39:23.343334",
     "exception": false,
     "start_time": "2021-06-26T07:39:23.311575",
     "status": "completed"
    },
    "tags": []
   },
   "outputs": [
    {
     "name": "stdout",
     "output_type": "stream",
     "text": [
      "Your question: Was Alessandro Volta taught in public schools?\n",
      "Closest question found: Ghana What is the weather like at Lake Volta?\n",
      "Similarity: 31.84%\n",
      "Answer: Warm and comparatively dry\n"
     ]
    }
   ],
   "source": [
    "ask_question('Was Alessandro Volta taught in public schools?')"
   ]
  },
  {
   "cell_type": "code",
   "execution_count": 34,
   "id": "intended-cookie",
   "metadata": {
    "papermill": {
     "duration": 0.033302,
     "end_time": "2021-06-26T07:39:23.395678",
     "exception": false,
     "start_time": "2021-06-26T07:39:23.362376",
     "status": "completed"
    },
    "tags": []
   },
   "outputs": [
    {
     "name": "stdout",
     "output_type": "stream",
     "text": [
      "Your question: How high are crime rates in Brazil\n",
      "Closest question found: Canada What is Canada's national unemployment rate?\n",
      "Similarity: 36.77%\n",
      "Answer: While as of October 2007, Canada's national unemployment rate of 5.9% is its lowest in 33 years. Provincial unemployment rates vary from a low of 3.6% in Alberta to a high of 14.6% in Newfoundland and Labrador. \n"
     ]
    }
   ],
   "source": [
    "ask_question('How high are crime rates in Brazil')"
   ]
  },
  {
   "cell_type": "code",
   "execution_count": null,
   "id": "4154a193-c9d5-4c73-8000-486deb0f65ba",
   "metadata": {},
   "outputs": [],
   "source": []
  }
 ],
 "metadata": {
  "kernelspec": {
   "display_name": "Python 3 (ipykernel)",
   "language": "python",
   "name": "python3"
  },
  "language_info": {
   "codemirror_mode": {
    "name": "ipython",
    "version": 3
   },
   "file_extension": ".py",
   "mimetype": "text/x-python",
   "name": "python",
   "nbconvert_exporter": "python",
   "pygments_lexer": "ipython3",
   "version": "3.8.12"
  },
  "papermill": {
   "default_parameters": {},
   "duration": 14.461449,
   "end_time": "2021-06-26T07:39:24.326208",
   "environment_variables": {},
   "exception": null,
   "input_path": "__notebook__.ipynb",
   "output_path": "__notebook__.ipynb",
   "parameters": {},
   "start_time": "2021-06-26T07:39:09.864759",
   "version": "2.3.2"
  }
 },
 "nbformat": 4,
 "nbformat_minor": 5
}
